{
 "cells": [
  {
   "cell_type": "code",
   "execution_count": 1,
   "id": "6c94be2f",
   "metadata": {},
   "outputs": [],
   "source": [
    "import csv"
   ]
  },
  {
   "cell_type": "code",
   "execution_count": 19,
   "id": "bdd25463",
   "metadata": {},
   "outputs": [],
   "source": [
    "#https://github.com/songys/Chatbot_data\n",
    "with open('Chatbot_data/ChatbotData.csv', newline='') as csvfile:\n",
    "    chat_data = csv.reader(csvfile, delimiter=',', quotechar=',')\n",
    "    src_data, tgt_data = [], []\n",
    "    for row in chat_data:\n",
    "        src_data.append(row[0])\n",
    "        tgt_data.append(row[1])\n",
    "        \n",
    "src_data = src_data[1:]\n",
    "tgt_data = tgt_data[1:]"
   ]
  },
  {
   "cell_type": "code",
   "execution_count": 20,
   "id": "bf670016",
   "metadata": {},
   "outputs": [
    {
     "data": {
      "text/plain": [
       "('12시 땡!', '하루가 또 가네요.')"
      ]
     },
     "execution_count": 20,
     "metadata": {},
     "output_type": "execute_result"
    }
   ],
   "source": [
    "src_data[0], tgt_data[0]"
   ]
  },
  {
   "cell_type": "code",
   "execution_count": 21,
   "id": "27c4056d",
   "metadata": {},
   "outputs": [
    {
     "data": {
      "text/plain": [
       "(11823, 11823)"
      ]
     },
     "execution_count": 21,
     "metadata": {},
     "output_type": "execute_result"
    }
   ],
   "source": [
    "len(src_data), len(tgt_data)"
   ]
  },
  {
   "cell_type": "code",
   "execution_count": 22,
   "id": "2c07548c",
   "metadata": {},
   "outputs": [],
   "source": [
    "with open('diag_src_kor', 'w') as file:    # hello.txt 파일을 쓰기 모드(w)로 열기\n",
    "    for src in src_data:\n",
    "        file.write(src + '\\n\\n')"
   ]
  },
  {
   "cell_type": "code",
   "execution_count": 23,
   "id": "bffd8450",
   "metadata": {},
   "outputs": [],
   "source": [
    "with open('diag_tgt_kor', 'w') as file:    # hello.txt 파일을 쓰기 모드(w)로 열기\n",
    "    for tgt in tgt_data:\n",
    "        file.write(tgt + '\\n\\n')"
   ]
  },
  {
   "cell_type": "code",
   "execution_count": null,
   "id": "9dca06df",
   "metadata": {},
   "outputs": [],
   "source": []
  }
 ],
 "metadata": {
  "kernelspec": {
   "display_name": "Python 3",
   "language": "python",
   "name": "python3"
  },
  "language_info": {
   "codemirror_mode": {
    "name": "ipython",
    "version": 3
   },
   "file_extension": ".py",
   "mimetype": "text/x-python",
   "name": "python",
   "nbconvert_exporter": "python",
   "pygments_lexer": "ipython3",
   "version": "3.7.10"
  }
 },
 "nbformat": 4,
 "nbformat_minor": 5
}
