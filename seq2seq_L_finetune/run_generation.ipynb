{
 "cells": [
  {
   "cell_type": "code",
   "execution_count": 1,
   "id": "06ba5998",
   "metadata": {},
   "outputs": [],
   "source": [
    "import torch\n",
    "import torch.nn.functional as F\n",
    "\n",
    "import transformers\n",
    "from models.seq_seq import Config, Transformer"
   ]
  },
  {
   "cell_type": "code",
   "execution_count": 2,
   "id": "ba1df563",
   "metadata": {},
   "outputs": [
    {
     "data": {
      "text/plain": [
       "<All keys matched successfully>"
      ]
     },
     "execution_count": 2,
     "metadata": {},
     "output_type": "execute_result"
    }
   ],
   "source": [
    "tokenizer = transformers.ElectraTokenizer.from_pretrained(\"monologg/koelectra-base-v3-discriminator\")\n",
    "special_tokens_dict = {'additional_special_tokens': ['[EOS]']}\n",
    "tokenizer.add_special_tokens(special_tokens_dict)\n",
    "\n",
    "config = Config('models/seq_seq_config.json')\n",
    "model = Transformer(config)\n",
    "model.load_state_dict(torch.load('ckpt/best_16.80705.pt'))"
   ]
  },
  {
   "cell_type": "code",
   "execution_count": 3,
   "id": "e642ce3a",
   "metadata": {},
   "outputs": [],
   "source": [
    "def translate_sentence(sentence, model, device, max_len = 50):\n",
    "    \n",
    "    model.eval()\n",
    "        \n",
    "    tokens = tokenizer.tokenize(sentence)\n",
    "    tokens = [tokenizer.cls_token] + tokens + ['[EOS]']\n",
    "    src_ids = [tokenizer.convert_tokens_to_ids(t) for t in tokens]\n",
    "    src_mask = [1] * len(src_ids)\n",
    "    n_pad = 64 - len(src_ids)\n",
    "    src_ids.extend([0] * n_pad)\n",
    "    src_mask.extend([0] * n_pad)\n",
    "\n",
    "    src_ids = torch.tensor(src_ids, dtype=torch.long)\n",
    "    src_ids = src_ids.unsqueeze(0)\n",
    "    src_mask = torch.tensor(src_mask, dtype=torch.long)\n",
    "    src_mask = src_mask.unsqueeze(0)\n",
    "    \n",
    "    src_mask = src_mask[:src_ids.size(0), None, None, :]\n",
    "    src_mask = src_mask.to(dtype=src_ids.dtype)  # fp16 compatibility\n",
    "    src_mask = (1.0 - src_mask) * -10000.0\n",
    "    \n",
    "    with torch.no_grad():\n",
    "        src_emd = model.embedding(src_ids)\n",
    "        enc_src = model.encoder(src_emd, src_mask)\n",
    "\n",
    "    tokens = [tokenizer.cls_token]\n",
    "    trg_indexes = [tokenizer.convert_tokens_to_ids(t) for t in tokens]\n",
    "\n",
    "    for i in range(max_len):\n",
    "\n",
    "        trg_tensor = torch.LongTensor(trg_indexes).unsqueeze(0).to(device)\n",
    "\n",
    "        trg_mask = [1] * len(trg_indexes)\n",
    "        trg_mask = torch.tensor(trg_mask, dtype=torch.long)\n",
    "        trg_mask = trg_mask.unsqueeze(0)\n",
    "        \n",
    "        trg_mask = (1.0 - trg_mask) * -10000.0\n",
    "        \n",
    "        with torch.no_grad():\n",
    "            trg_emd = model.embedding(trg_tensor)\n",
    "            output = model.decoder(trg_emd, enc_src, trg_mask, src_mask)\n",
    "        pred_token = output.argmax(2)[:,-1].item()\n",
    "        \n",
    "        trg_indexes.append(pred_token)\n",
    "\n",
    "        if pred_token == 35000:\n",
    "            break\n",
    "            \n",
    "    return trg_indexes"
   ]
  },
  {
   "cell_type": "code",
   "execution_count": 10,
   "id": "116ffd16",
   "metadata": {},
   "outputs": [
    {
     "name": "stdout",
     "output_type": "stream",
     "text": [
      "저는 위로봇입니다 .\n"
     ]
    }
   ],
   "source": [
    "text = \"넌 누구야?\"\n",
    "translation = translate_sentence(text, model, 'cpu')\n",
    "print(tokenizer.convert_tokens_to_string(tokenizer.convert_ids_to_tokens(translation, skip_special_tokens=True)))"
   ]
  },
  {
   "cell_type": "code",
   "execution_count": null,
   "id": "65a2907e",
   "metadata": {},
   "outputs": [],
   "source": []
  },
  {
   "cell_type": "code",
   "execution_count": null,
   "id": "2675e2a7",
   "metadata": {},
   "outputs": [],
   "source": []
  },
  {
   "cell_type": "code",
   "execution_count": null,
   "id": "3e49e502",
   "metadata": {},
   "outputs": [],
   "source": []
  },
  {
   "cell_type": "code",
   "execution_count": null,
   "id": "562d2221",
   "metadata": {},
   "outputs": [],
   "source": []
  }
 ],
 "metadata": {
  "kernelspec": {
   "display_name": "Python 3",
   "language": "python",
   "name": "python3"
  },
  "language_info": {
   "codemirror_mode": {
    "name": "ipython",
    "version": 3
   },
   "file_extension": ".py",
   "mimetype": "text/x-python",
   "name": "python",
   "nbconvert_exporter": "python",
   "pygments_lexer": "ipython3",
   "version": "3.7.10"
  }
 },
 "nbformat": 4,
 "nbformat_minor": 5
}
